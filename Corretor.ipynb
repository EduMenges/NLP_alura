{
 "cells": [
  {
   "cell_type": "markdown",
   "id": "b0bf4aaa",
   "metadata": {},
   "source": [
    "Trabalharei com tipos porque me dá felicidade e menos gatilho."
   ]
  },
  {
   "cell_type": "code",
   "execution_count": 123,
   "id": "0253eea2",
   "metadata": {},
   "outputs": [],
   "source": [
    "from typing import List, Set"
   ]
  },
  {
   "cell_type": "code",
   "execution_count": 124,
   "id": "855af6e1",
   "metadata": {
    "scrolled": false
   },
   "outputs": [
    {
     "name": "stdout",
     "output_type": "stream",
     "text": [
      "\n",
      "\n",
      "\n",
      "imagem \n",
      "\n",
      "Temos a seguinte classe que representa um usuário no nosso sistema:\n",
      "\n",
      "java\n",
      "\n",
      "Para salvar um novo usuário, várias validações são feitas, como por exemplo: Ver se o nome só contém letras, [**o CPF só números**] e ver se o usuário possui no mínimo 18 anos. Veja o método que faz essa validação\n"
     ]
    }
   ],
   "source": [
    "artigos = \"\"\n",
    "\n",
    "with open(\"artigos.txt\", \"r\", encoding=\"utf8\") as f:\n",
    "    artigos = f.read()\n",
    "\n",
    "print(artigos[:300])"
   ]
  },
  {
   "cell_type": "markdown",
   "id": "4d42560c",
   "metadata": {},
   "source": [
    "É claro que não dá pra usar o len, ele retornaria a quantidade de caracteres. O split também não, pois é lento, e não diferencia as pontuações."
   ]
  },
  {
   "cell_type": "markdown",
   "id": "58d3c6d0",
   "metadata": {},
   "source": [
    "# Tokenização"
   ]
  },
  {
   "cell_type": "markdown",
   "id": "2bfb7604",
   "metadata": {},
   "source": [
    "Ao invés de inventar moda, por que não usar um pacote pronto que foi feito por pessoas muito mais inteligentes do que você?"
   ]
  },
  {
   "cell_type": "code",
   "execution_count": 125,
   "id": "b24469d6",
   "metadata": {},
   "outputs": [
    {
     "name": "stderr",
     "output_type": "stream",
     "text": [
      "[nltk_data] Downloading package punkt to\n",
      "[nltk_data]     C:\\Users\\eduar\\AppData\\Roaming\\nltk_data...\n",
      "[nltk_data]   Package punkt is already up-to-date!\n"
     ]
    },
    {
     "data": {
      "text/plain": [
       "True"
      ]
     },
     "execution_count": 125,
     "metadata": {},
     "output_type": "execute_result"
    }
   ],
   "source": [
    "import nltk\n",
    "nltk.download('punkt')"
   ]
  },
  {
   "cell_type": "code",
   "execution_count": 126,
   "id": "26824268",
   "metadata": {},
   "outputs": [],
   "source": [
    "palavras_separadas = nltk.tokenize.word_tokenize(artigos)"
   ]
  },
  {
   "cell_type": "code",
   "execution_count": 127,
   "id": "a9a8ae2c",
   "metadata": {
    "scrolled": true
   },
   "outputs": [
    {
     "name": "stdout",
     "output_type": "stream",
     "text": [
      "['imagem', 'Temos', 'a', 'seguinte', 'classe', 'que', 'representa', 'um', 'usuário', 'no', 'nosso', 'sistema', ':', 'java', 'Para', 'salvar', 'um', 'novo', 'usuário', ',']\n"
     ]
    }
   ],
   "source": [
    "print(palavras_separadas[:20])"
   ]
  },
  {
   "cell_type": "markdown",
   "id": "b770e8e5",
   "metadata": {},
   "source": [
    "Apesar de conseguirmos separar os tokens, precisamos também filtrar o que é palavra do que é pontuação."
   ]
  },
  {
   "cell_type": "markdown",
   "id": "6936eeec",
   "metadata": {},
   "source": [
    "## Filtrando as palavras"
   ]
  },
  {
   "cell_type": "code",
   "execution_count": 128,
   "id": "3c11709d",
   "metadata": {},
   "outputs": [],
   "source": [
    "def separa_palavras(tokens: List[str]) -> List[str]:\n",
    "    lista_palavras = []\n",
    "    \n",
    "    for token in tokens:\n",
    "        if token.isalpha():\n",
    "            lista_palavras.append(token)\n",
    "    \n",
    "    return lista_palavras"
   ]
  },
  {
   "cell_type": "code",
   "execution_count": 129,
   "id": "d4a5abae",
   "metadata": {
    "scrolled": true
   },
   "outputs": [
    {
     "name": "stdout",
     "output_type": "stream",
     "text": [
      "['Olá', 'tudo', 'bem']\n"
     ]
    }
   ],
   "source": [
    "texto_teste = \"Olá, tudo bem?\"\n",
    "teste_separado = separa_palavras(nltk.tokenize.word_tokenize(texto_teste))\n",
    "print(teste_separado)"
   ]
  },
  {
   "cell_type": "code",
   "execution_count": 130,
   "id": "7f781161",
   "metadata": {},
   "outputs": [
    {
     "name": "stdout",
     "output_type": "stream",
     "text": [
      "O total de palavras do corpus é 403031.\n"
     ]
    }
   ],
   "source": [
    "lista_palavras = separa_palavras(palavras_separadas)\n",
    "print(f\"O total de palavras do corpus é {len(lista_palavras)}.\")"
   ]
  },
  {
   "cell_type": "code",
   "execution_count": 131,
   "id": "acd16c1a",
   "metadata": {},
   "outputs": [
    {
     "name": "stdout",
     "output_type": "stream",
     "text": [
      "['imagem', 'Temos', 'a', 'seguinte', 'classe', 'que', 'representa', 'um', 'usuário', 'no', 'nosso', 'sistema', 'java', 'Para', 'salvar', 'um', 'novo', 'usuário', 'várias', 'validações']\n"
     ]
    }
   ],
   "source": [
    "print(lista_palavras[:20])"
   ]
  },
  {
   "cell_type": "markdown",
   "id": "bcb93ab9",
   "metadata": {},
   "source": [
    "## Normalizando as palavras"
   ]
  },
  {
   "cell_type": "code",
   "execution_count": 132,
   "id": "e6b6936e",
   "metadata": {},
   "outputs": [],
   "source": [
    "def normalizacao(lista_palavras: List[str]) -> List[str]:\n",
    "    return list(map(lambda p: p.lower(), lista_palavras))"
   ]
  },
  {
   "cell_type": "markdown",
   "id": "5bf33e39",
   "metadata": {},
   "source": [
    "Deus abençoe as funções de alta ordem."
   ]
  },
  {
   "cell_type": "code",
   "execution_count": 133,
   "id": "008236cc",
   "metadata": {},
   "outputs": [
    {
     "name": "stdout",
     "output_type": "stream",
     "text": [
      "['olá', 'tudo', 'bem']\n"
     ]
    }
   ],
   "source": [
    "print(normalizacao(teste_separado))"
   ]
  },
  {
   "cell_type": "code",
   "execution_count": 134,
   "id": "b46c2f13",
   "metadata": {},
   "outputs": [],
   "source": [
    "lista_normalizada = normalizacao(lista_palavras)"
   ]
  },
  {
   "cell_type": "markdown",
   "id": "96ffda9f",
   "metadata": {},
   "source": [
    "Gerando um total de palavras"
   ]
  },
  {
   "cell_type": "code",
   "execution_count": 135,
   "id": "c5a3533f",
   "metadata": {
    "scrolled": true
   },
   "outputs": [
    {
     "name": "stdout",
     "output_type": "stream",
     "text": [
      "Há 18464 palavras únicas no corpus.\n"
     ]
    }
   ],
   "source": [
    "total_palavras = len(set(lista_normalizada))\n",
    "print(f\"Há {total_palavras} palavras únicas no corpus.\")"
   ]
  },
  {
   "cell_type": "markdown",
   "id": "88445e64",
   "metadata": {},
   "source": [
    "# Construindo o corretor"
   ]
  },
  {
   "cell_type": "code",
   "execution_count": 136,
   "id": "fa2588bf",
   "metadata": {},
   "outputs": [],
   "source": [
    "palavra_exemplo = \"lgica\""
   ]
  },
  {
   "cell_type": "code",
   "execution_count": 137,
   "id": "ea4fad46",
   "metadata": {},
   "outputs": [],
   "source": [
    "def fatiar_palavra(palavra: str):\n",
    "    fatias = []\n",
    "    \n",
    "    for i in range(len(palavra) + 1):\n",
    "        fatias.append((palavra[:i], palavra[i:]))\n",
    "        \n",
    "    return fatias"
   ]
  },
  {
   "cell_type": "code",
   "execution_count": 138,
   "id": "094da7a8",
   "metadata": {},
   "outputs": [
    {
     "name": "stdout",
     "output_type": "stream",
     "text": [
      "[('', 'lgica'), ('l', 'gica'), ('lg', 'ica'), ('lgi', 'ca'), ('lgic', 'a'), ('lgica', '')]\n"
     ]
    }
   ],
   "source": [
    "palavra_fatiada = fatiar_palavra(palavra_exemplo)\n",
    "print(palavra_fatiada)"
   ]
  },
  {
   "cell_type": "code",
   "execution_count": 139,
   "id": "7d018f74",
   "metadata": {},
   "outputs": [],
   "source": [
    "def insere_letras(fatias) -> List[List[str]]:\n",
    "    palavras_geradas = []\n",
    "    insere_letras.letras = \"abcdefghijklmnopqrstuvwxyzàáâãèéêìíîòóôõùúûç\"\n",
    "    \n",
    "    palavras_geradas.extend([f\"{E}{letra}{D}\"\n",
    "                             for E, D in fatias\n",
    "                             for letra in insere_letras.letras])\n",
    "    \n",
    "    return palavras_geradas"
   ]
  },
  {
   "cell_type": "code",
   "execution_count": 140,
   "id": "adebaee1",
   "metadata": {
    "scrolled": true
   },
   "outputs": [
    {
     "name": "stdout",
     "output_type": "stream",
     "text": [
      "['algica', 'blgica', 'clgica', 'dlgica', 'elgica', 'flgica', 'glgica', 'hlgica', 'ilgica', 'jlgica', 'klgica', 'llgica', 'mlgica', 'nlgica', 'olgica', 'plgica', 'qlgica', 'rlgica', 'slgica', 'tlgica', 'ulgica', 'vlgica', 'wlgica', 'xlgica', 'ylgica', 'zlgica', 'àlgica', 'álgica', 'âlgica', 'ãlgica', 'èlgica', 'élgica', 'êlgica', 'ìlgica', 'ílgica', 'îlgica', 'òlgica', 'ólgica', 'ôlgica', 'õlgica', 'ùlgica', 'úlgica', 'ûlgica', 'çlgica', 'lagica', 'lbgica', 'lcgica', 'ldgica', 'legica', 'lfgica', 'lggica', 'lhgica', 'ligica', 'ljgica', 'lkgica', 'llgica', 'lmgica', 'lngica', 'logica', 'lpgica', 'lqgica', 'lrgica', 'lsgica', 'ltgica', 'lugica', 'lvgica', 'lwgica', 'lxgica', 'lygica', 'lzgica', 'làgica', 'lágica', 'lâgica', 'lãgica', 'lègica', 'légica', 'lêgica', 'lìgica', 'lígica', 'lîgica', 'lògica', 'lógica', 'lôgica', 'lõgica', 'lùgica', 'lúgica', 'lûgica', 'lçgica', 'lgaica', 'lgbica', 'lgcica', 'lgdica', 'lgeica', 'lgfica', 'lggica', 'lghica', 'lgiica', 'lgjica', 'lgkica', 'lglica', 'lgmica', 'lgnica', 'lgoica', 'lgpica', 'lgqica', 'lgrica', 'lgsica', 'lgtica', 'lguica', 'lgvica', 'lgwica', 'lgxica', 'lgyica', 'lgzica', 'lgàica', 'lgáica', 'lgâica', 'lgãica', 'lgèica', 'lgéica', 'lgêica', 'lgìica', 'lgíica', 'lgîica', 'lgòica', 'lgóica', 'lgôica', 'lgõica', 'lgùica', 'lgúica', 'lgûica', 'lgçica', 'lgiaca', 'lgibca', 'lgicca', 'lgidca', 'lgieca', 'lgifca', 'lgigca', 'lgihca', 'lgiica', 'lgijca', 'lgikca', 'lgilca', 'lgimca', 'lginca', 'lgioca', 'lgipca', 'lgiqca', 'lgirca', 'lgisca', 'lgitca', 'lgiuca', 'lgivca', 'lgiwca', 'lgixca', 'lgiyca', 'lgizca', 'lgiàca', 'lgiáca', 'lgiâca', 'lgiãca', 'lgièca', 'lgiéca', 'lgiêca', 'lgiìca', 'lgiíca', 'lgiîca', 'lgiòca', 'lgióca', 'lgiôca', 'lgiõca', 'lgiùca', 'lgiúca', 'lgiûca', 'lgiçca', 'lgicaa', 'lgicba', 'lgicca', 'lgicda', 'lgicea', 'lgicfa', 'lgicga', 'lgicha', 'lgicia', 'lgicja', 'lgicka', 'lgicla', 'lgicma', 'lgicna', 'lgicoa', 'lgicpa', 'lgicqa', 'lgicra', 'lgicsa', 'lgicta', 'lgicua', 'lgicva', 'lgicwa', 'lgicxa', 'lgicya', 'lgicza', 'lgicàa', 'lgicáa', 'lgicâa', 'lgicãa', 'lgicèa', 'lgicéa', 'lgicêa', 'lgicìa', 'lgicía', 'lgicîa', 'lgicòa', 'lgicóa', 'lgicôa', 'lgicõa', 'lgicùa', 'lgicúa', 'lgicûa', 'lgicça', 'lgicaa', 'lgicab', 'lgicac', 'lgicad', 'lgicae', 'lgicaf', 'lgicag', 'lgicah', 'lgicai', 'lgicaj', 'lgicak', 'lgical', 'lgicam', 'lgican', 'lgicao', 'lgicap', 'lgicaq', 'lgicar', 'lgicas', 'lgicat', 'lgicau', 'lgicav', 'lgicaw', 'lgicax', 'lgicay', 'lgicaz', 'lgicaà', 'lgicaá', 'lgicaâ', 'lgicaã', 'lgicaè', 'lgicaé', 'lgicaê', 'lgicaì', 'lgicaí', 'lgicaî', 'lgicaò', 'lgicaó', 'lgicaô', 'lgicaõ', 'lgicaù', 'lgicaú', 'lgicaû', 'lgicaç']\n"
     ]
    }
   ],
   "source": [
    "print(insere_letras(palavra_fatiada))"
   ]
  },
  {
   "cell_type": "code",
   "execution_count": 141,
   "id": "705f5a2f",
   "metadata": {},
   "outputs": [],
   "source": [
    "def gerador_de_palavras(palavra: str):\n",
    "    fatias = fatiar_palavra(palavra)\n",
    "    palavras_geradas = insere_letras(fatias)\n",
    "    \n",
    "    return palavras_geradas\n"
   ]
  },
  {
   "cell_type": "code",
   "execution_count": 142,
   "id": "642eb3b4",
   "metadata": {},
   "outputs": [],
   "source": [
    "def corretor(palavra: str):\n",
    "    palavras_geradas = gerador_de_palavras(palavra)\n",
    "    palavra_correta = max(palavras_geradas, key=probabilidade)    \n",
    "    \n",
    "    return palavra_correta"
   ]
  },
  {
   "cell_type": "markdown",
   "id": "a139a63b",
   "metadata": {},
   "source": [
    "Criando uma distribuição de frequência:"
   ]
  },
  {
   "cell_type": "code",
   "execution_count": 143,
   "id": "a664b038",
   "metadata": {
    "scrolled": true
   },
   "outputs": [
    {
     "data": {
      "text/plain": [
       "[('de', 15502),\n",
       " ('o', 14056),\n",
       " ('que', 12230),\n",
       " ('a', 11099),\n",
       " ('e', 10501),\n",
       " ('para', 7710),\n",
       " ('um', 6367),\n",
       " ('é', 5899),\n",
       " ('uma', 5220),\n",
       " ('do', 5124)]"
      ]
     },
     "execution_count": 143,
     "metadata": {},
     "output_type": "execute_result"
    }
   ],
   "source": [
    "frequencia = nltk.FreqDist(lista_normalizada)\n",
    "frequencia.most_common(10)"
   ]
  },
  {
   "cell_type": "code",
   "execution_count": 144,
   "id": "7e6810a5",
   "metadata": {},
   "outputs": [],
   "source": [
    "def probabilidade(palavra_gerada: str):\n",
    "    return frequencia[palavra_gerada] / total_palavras"
   ]
  },
  {
   "cell_type": "markdown",
   "id": "b8b3c07d",
   "metadata": {},
   "source": [
    "Vendo a probabilidade da palavra lógica"
   ]
  },
  {
   "cell_type": "code",
   "execution_count": 145,
   "id": "e06ad145",
   "metadata": {},
   "outputs": [
    {
     "data": {
      "text/plain": [
       "0.005199306759098787"
      ]
     },
     "execution_count": 145,
     "metadata": {},
     "output_type": "execute_result"
    }
   ],
   "source": [
    "probabilidade(\"lógica\")"
   ]
  },
  {
   "cell_type": "markdown",
   "id": "42476119",
   "metadata": {},
   "source": [
    "É bem baixo, mas isso é porque há muitas palavras repetidas no corpus. E se fosse uma palavra que não existe?"
   ]
  },
  {
   "cell_type": "code",
   "execution_count": 146,
   "id": "7805b858",
   "metadata": {},
   "outputs": [
    {
     "data": {
      "text/plain": [
       "0.0"
      ]
     },
     "execution_count": 146,
     "metadata": {},
     "output_type": "execute_result"
    }
   ],
   "source": [
    "probabilidade(\"lágica\")"
   ]
  },
  {
   "cell_type": "markdown",
   "id": "6fb33b5b",
   "metadata": {},
   "source": [
    "0.0! Funciona"
   ]
  },
  {
   "cell_type": "code",
   "execution_count": 147,
   "id": "cbff6668",
   "metadata": {
    "scrolled": false
   },
   "outputs": [
    {
     "data": {
      "text/plain": [
       "'lógica'"
      ]
     },
     "execution_count": 147,
     "metadata": {},
     "output_type": "execute_result"
    }
   ],
   "source": [
    "corretor(\"lgica\")"
   ]
  },
  {
   "cell_type": "markdown",
   "id": "5fa3cad4",
   "metadata": {},
   "source": [
    "Está tudo muito bonito, porém precisamos estender o corretor para suportar letras a mais."
   ]
  },
  {
   "cell_type": "code",
   "execution_count": 148,
   "id": "2254c234",
   "metadata": {},
   "outputs": [
    {
     "data": {
      "text/plain": [
       "{'correta': 'podemos', 'errada': 'pyodemos'}"
      ]
     },
     "execution_count": 148,
     "metadata": {},
     "output_type": "execute_result"
    }
   ],
   "source": [
    "def separa_dados_teste(linha: str):\n",
    "    linha_separada = linha.strip().split(' ')\n",
    "    return {\n",
    "        \"correta\": linha_separada[0],\n",
    "        \"errada\": linha_separada[1]\n",
    "    }\n",
    "\n",
    "separa_dados_teste(\"podemos pyodemos\")"
   ]
  },
  {
   "cell_type": "code",
   "execution_count": 149,
   "id": "c9ce0ce2",
   "metadata": {},
   "outputs": [],
   "source": [
    "def cria_dados_teste(nome_arquivo):\n",
    "    lista_palavras_teste = []\n",
    "    \n",
    "    f = open(nome_arquivo, \"r\", encoding=\"utf8\")\n",
    "    \n",
    "    for linha in f:\n",
    "        lista_palavras_teste.append(separa_dados_teste(linha))\n",
    "        \n",
    "    f.close()\n",
    "    \n",
    "    return lista_palavras_teste"
   ]
  },
  {
   "cell_type": "code",
   "execution_count": 150,
   "id": "c3394de3",
   "metadata": {},
   "outputs": [],
   "source": [
    "lista_teste = cria_dados_teste(\"palavras.txt\")"
   ]
  },
  {
   "cell_type": "code",
   "execution_count": 151,
   "id": "0a72676b",
   "metadata": {},
   "outputs": [],
   "source": [
    "def avaliador(testes):\n",
    "    numero_palavras = len(testes)\n",
    "    acertou = 0\n",
    "    \n",
    "    for teste in testes:\n",
    "        palavra_corrigida = corretor(teste[\"errada\"])\n",
    "        \n",
    "        if teste[\"correta\"] == palavra_corrigida:\n",
    "            acertou += 1\n",
    "    \n",
    "    taxa_acerto = acertou / numero_palavras\n",
    "    print(\"Taxa de acerto: {:.2%}\".format(taxa_acerto))"
   ]
  },
  {
   "cell_type": "code",
   "execution_count": 152,
   "id": "115fccbf",
   "metadata": {},
   "outputs": [
    {
     "name": "stdout",
     "output_type": "stream",
     "text": [
      "Taxa de acerto: 1.60%\n"
     ]
    }
   ],
   "source": [
    "avaliador(lista_teste)"
   ]
  },
  {
   "cell_type": "markdown",
   "id": "3f51e423",
   "metadata": {},
   "source": [
    "A taxa está baixa. Um dos motivos é que não avaliamos as letras a mais, ou duplicadas. Por isso, precisamos implementar uma\n",
    "\n",
    "# Operação de eliminação"
   ]
  },
  {
   "cell_type": "code",
   "execution_count": 153,
   "id": "148288f8",
   "metadata": {},
   "outputs": [],
   "source": [
    "def deleta_caracteres(fatias) -> List[List[str]]:\n",
    "    palavras_geradas = []\n",
    "        \n",
    "    palavras_geradas.extend([f\"{E}{D[1:]}\"\n",
    "                             for E, D in fatias])\n",
    "    \n",
    "    return palavras_geradas"
   ]
  },
  {
   "cell_type": "code",
   "execution_count": 154,
   "id": "e4376fdd",
   "metadata": {},
   "outputs": [
    {
     "data": {
      "text/plain": [
       "['óigica',\n",
       " 'ligica',\n",
       " 'lógica',\n",
       " 'lóiica',\n",
       " 'lóigca',\n",
       " 'lóigia',\n",
       " 'lóigic',\n",
       " 'lóigica']"
      ]
     },
     "execution_count": 154,
     "metadata": {},
     "output_type": "execute_result"
    }
   ],
   "source": [
    "palavra_exemplo = \"lóigica\"\n",
    "deleta_caracteres(fatiar_palavra(palavra_exemplo))"
   ]
  },
  {
   "cell_type": "markdown",
   "id": "5d9f3a5a",
   "metadata": {},
   "source": [
    "Agora só falta adicionar na função de gerar as palavras!"
   ]
  },
  {
   "cell_type": "code",
   "execution_count": 155,
   "id": "27ae926c",
   "metadata": {},
   "outputs": [],
   "source": [
    "def gerador_de_palavras(palavra: str):\n",
    "    fatias = fatiar_palavra(palavra)\n",
    "    palavras_geradas = insere_letras(fatias) + deleta_caracteres(fatias)\n",
    "    \n",
    "    return palavras_geradas"
   ]
  },
  {
   "cell_type": "code",
   "execution_count": 156,
   "id": "1a3de127",
   "metadata": {
    "scrolled": true
   },
   "outputs": [
    {
     "data": {
      "text/plain": [
       "['alóigica',\n",
       " 'blóigica',\n",
       " 'clóigica',\n",
       " 'dlóigica',\n",
       " 'elóigica',\n",
       " 'flóigica',\n",
       " 'glóigica',\n",
       " 'hlóigica',\n",
       " 'ilóigica',\n",
       " 'jlóigica',\n",
       " 'klóigica',\n",
       " 'llóigica',\n",
       " 'mlóigica',\n",
       " 'nlóigica',\n",
       " 'olóigica',\n",
       " 'plóigica',\n",
       " 'qlóigica',\n",
       " 'rlóigica',\n",
       " 'slóigica',\n",
       " 'tlóigica',\n",
       " 'ulóigica',\n",
       " 'vlóigica',\n",
       " 'wlóigica',\n",
       " 'xlóigica',\n",
       " 'ylóigica',\n",
       " 'zlóigica',\n",
       " 'àlóigica',\n",
       " 'álóigica',\n",
       " 'âlóigica',\n",
       " 'ãlóigica',\n",
       " 'èlóigica',\n",
       " 'élóigica',\n",
       " 'êlóigica',\n",
       " 'ìlóigica',\n",
       " 'ílóigica',\n",
       " 'îlóigica',\n",
       " 'òlóigica',\n",
       " 'ólóigica',\n",
       " 'ôlóigica',\n",
       " 'õlóigica',\n",
       " 'ùlóigica',\n",
       " 'úlóigica',\n",
       " 'ûlóigica',\n",
       " 'çlóigica',\n",
       " 'laóigica',\n",
       " 'lbóigica',\n",
       " 'lcóigica',\n",
       " 'ldóigica',\n",
       " 'leóigica',\n",
       " 'lfóigica',\n",
       " 'lgóigica',\n",
       " 'lhóigica',\n",
       " 'lióigica',\n",
       " 'ljóigica',\n",
       " 'lkóigica',\n",
       " 'llóigica',\n",
       " 'lmóigica',\n",
       " 'lnóigica',\n",
       " 'loóigica',\n",
       " 'lpóigica',\n",
       " 'lqóigica',\n",
       " 'lróigica',\n",
       " 'lsóigica',\n",
       " 'ltóigica',\n",
       " 'luóigica',\n",
       " 'lvóigica',\n",
       " 'lwóigica',\n",
       " 'lxóigica',\n",
       " 'lyóigica',\n",
       " 'lzóigica',\n",
       " 'làóigica',\n",
       " 'láóigica',\n",
       " 'lâóigica',\n",
       " 'lãóigica',\n",
       " 'lèóigica',\n",
       " 'léóigica',\n",
       " 'lêóigica',\n",
       " 'lìóigica',\n",
       " 'líóigica',\n",
       " 'lîóigica',\n",
       " 'lòóigica',\n",
       " 'lóóigica',\n",
       " 'lôóigica',\n",
       " 'lõóigica',\n",
       " 'lùóigica',\n",
       " 'lúóigica',\n",
       " 'lûóigica',\n",
       " 'lçóigica',\n",
       " 'lóaigica',\n",
       " 'lóbigica',\n",
       " 'lócigica',\n",
       " 'lódigica',\n",
       " 'lóeigica',\n",
       " 'lófigica',\n",
       " 'lógigica',\n",
       " 'lóhigica',\n",
       " 'lóiigica',\n",
       " 'lójigica',\n",
       " 'lókigica',\n",
       " 'lóligica',\n",
       " 'lómigica',\n",
       " 'lónigica',\n",
       " 'lóoigica',\n",
       " 'lópigica',\n",
       " 'lóqigica',\n",
       " 'lórigica',\n",
       " 'lósigica',\n",
       " 'lótigica',\n",
       " 'lóuigica',\n",
       " 'lóvigica',\n",
       " 'lówigica',\n",
       " 'lóxigica',\n",
       " 'lóyigica',\n",
       " 'lózigica',\n",
       " 'lóàigica',\n",
       " 'lóáigica',\n",
       " 'lóâigica',\n",
       " 'lóãigica',\n",
       " 'lóèigica',\n",
       " 'lóéigica',\n",
       " 'lóêigica',\n",
       " 'lóìigica',\n",
       " 'lóíigica',\n",
       " 'lóîigica',\n",
       " 'lóòigica',\n",
       " 'lóóigica',\n",
       " 'lóôigica',\n",
       " 'lóõigica',\n",
       " 'lóùigica',\n",
       " 'lóúigica',\n",
       " 'lóûigica',\n",
       " 'lóçigica',\n",
       " 'lóiagica',\n",
       " 'lóibgica',\n",
       " 'lóicgica',\n",
       " 'lóidgica',\n",
       " 'lóiegica',\n",
       " 'lóifgica',\n",
       " 'lóiggica',\n",
       " 'lóihgica',\n",
       " 'lóiigica',\n",
       " 'lóijgica',\n",
       " 'lóikgica',\n",
       " 'lóilgica',\n",
       " 'lóimgica',\n",
       " 'lóingica',\n",
       " 'lóiogica',\n",
       " 'lóipgica',\n",
       " 'lóiqgica',\n",
       " 'lóirgica',\n",
       " 'lóisgica',\n",
       " 'lóitgica',\n",
       " 'lóiugica',\n",
       " 'lóivgica',\n",
       " 'lóiwgica',\n",
       " 'lóixgica',\n",
       " 'lóiygica',\n",
       " 'lóizgica',\n",
       " 'lóiàgica',\n",
       " 'lóiágica',\n",
       " 'lóiâgica',\n",
       " 'lóiãgica',\n",
       " 'lóiègica',\n",
       " 'lóiégica',\n",
       " 'lóiêgica',\n",
       " 'lóiìgica',\n",
       " 'lóiígica',\n",
       " 'lóiîgica',\n",
       " 'lóiògica',\n",
       " 'lóiógica',\n",
       " 'lóiôgica',\n",
       " 'lóiõgica',\n",
       " 'lóiùgica',\n",
       " 'lóiúgica',\n",
       " 'lóiûgica',\n",
       " 'lóiçgica',\n",
       " 'lóigaica',\n",
       " 'lóigbica',\n",
       " 'lóigcica',\n",
       " 'lóigdica',\n",
       " 'lóigeica',\n",
       " 'lóigfica',\n",
       " 'lóiggica',\n",
       " 'lóighica',\n",
       " 'lóigiica',\n",
       " 'lóigjica',\n",
       " 'lóigkica',\n",
       " 'lóiglica',\n",
       " 'lóigmica',\n",
       " 'lóignica',\n",
       " 'lóigoica',\n",
       " 'lóigpica',\n",
       " 'lóigqica',\n",
       " 'lóigrica',\n",
       " 'lóigsica',\n",
       " 'lóigtica',\n",
       " 'lóiguica',\n",
       " 'lóigvica',\n",
       " 'lóigwica',\n",
       " 'lóigxica',\n",
       " 'lóigyica',\n",
       " 'lóigzica',\n",
       " 'lóigàica',\n",
       " 'lóigáica',\n",
       " 'lóigâica',\n",
       " 'lóigãica',\n",
       " 'lóigèica',\n",
       " 'lóigéica',\n",
       " 'lóigêica',\n",
       " 'lóigìica',\n",
       " 'lóigíica',\n",
       " 'lóigîica',\n",
       " 'lóigòica',\n",
       " 'lóigóica',\n",
       " 'lóigôica',\n",
       " 'lóigõica',\n",
       " 'lóigùica',\n",
       " 'lóigúica',\n",
       " 'lóigûica',\n",
       " 'lóigçica',\n",
       " 'lóigiaca',\n",
       " 'lóigibca',\n",
       " 'lóigicca',\n",
       " 'lóigidca',\n",
       " 'lóigieca',\n",
       " 'lóigifca',\n",
       " 'lóigigca',\n",
       " 'lóigihca',\n",
       " 'lóigiica',\n",
       " 'lóigijca',\n",
       " 'lóigikca',\n",
       " 'lóigilca',\n",
       " 'lóigimca',\n",
       " 'lóiginca',\n",
       " 'lóigioca',\n",
       " 'lóigipca',\n",
       " 'lóigiqca',\n",
       " 'lóigirca',\n",
       " 'lóigisca',\n",
       " 'lóigitca',\n",
       " 'lóigiuca',\n",
       " 'lóigivca',\n",
       " 'lóigiwca',\n",
       " 'lóigixca',\n",
       " 'lóigiyca',\n",
       " 'lóigizca',\n",
       " 'lóigiàca',\n",
       " 'lóigiáca',\n",
       " 'lóigiâca',\n",
       " 'lóigiãca',\n",
       " 'lóigièca',\n",
       " 'lóigiéca',\n",
       " 'lóigiêca',\n",
       " 'lóigiìca',\n",
       " 'lóigiíca',\n",
       " 'lóigiîca',\n",
       " 'lóigiòca',\n",
       " 'lóigióca',\n",
       " 'lóigiôca',\n",
       " 'lóigiõca',\n",
       " 'lóigiùca',\n",
       " 'lóigiúca',\n",
       " 'lóigiûca',\n",
       " 'lóigiçca',\n",
       " 'lóigicaa',\n",
       " 'lóigicba',\n",
       " 'lóigicca',\n",
       " 'lóigicda',\n",
       " 'lóigicea',\n",
       " 'lóigicfa',\n",
       " 'lóigicga',\n",
       " 'lóigicha',\n",
       " 'lóigicia',\n",
       " 'lóigicja',\n",
       " 'lóigicka',\n",
       " 'lóigicla',\n",
       " 'lóigicma',\n",
       " 'lóigicna',\n",
       " 'lóigicoa',\n",
       " 'lóigicpa',\n",
       " 'lóigicqa',\n",
       " 'lóigicra',\n",
       " 'lóigicsa',\n",
       " 'lóigicta',\n",
       " 'lóigicua',\n",
       " 'lóigicva',\n",
       " 'lóigicwa',\n",
       " 'lóigicxa',\n",
       " 'lóigicya',\n",
       " 'lóigicza',\n",
       " 'lóigicàa',\n",
       " 'lóigicáa',\n",
       " 'lóigicâa',\n",
       " 'lóigicãa',\n",
       " 'lóigicèa',\n",
       " 'lóigicéa',\n",
       " 'lóigicêa',\n",
       " 'lóigicìa',\n",
       " 'lóigicía',\n",
       " 'lóigicîa',\n",
       " 'lóigicòa',\n",
       " 'lóigicóa',\n",
       " 'lóigicôa',\n",
       " 'lóigicõa',\n",
       " 'lóigicùa',\n",
       " 'lóigicúa',\n",
       " 'lóigicûa',\n",
       " 'lóigicça',\n",
       " 'lóigicaa',\n",
       " 'lóigicab',\n",
       " 'lóigicac',\n",
       " 'lóigicad',\n",
       " 'lóigicae',\n",
       " 'lóigicaf',\n",
       " 'lóigicag',\n",
       " 'lóigicah',\n",
       " 'lóigicai',\n",
       " 'lóigicaj',\n",
       " 'lóigicak',\n",
       " 'lóigical',\n",
       " 'lóigicam',\n",
       " 'lóigican',\n",
       " 'lóigicao',\n",
       " 'lóigicap',\n",
       " 'lóigicaq',\n",
       " 'lóigicar',\n",
       " 'lóigicas',\n",
       " 'lóigicat',\n",
       " 'lóigicau',\n",
       " 'lóigicav',\n",
       " 'lóigicaw',\n",
       " 'lóigicax',\n",
       " 'lóigicay',\n",
       " 'lóigicaz',\n",
       " 'lóigicaà',\n",
       " 'lóigicaá',\n",
       " 'lóigicaâ',\n",
       " 'lóigicaã',\n",
       " 'lóigicaè',\n",
       " 'lóigicaé',\n",
       " 'lóigicaê',\n",
       " 'lóigicaì',\n",
       " 'lóigicaí',\n",
       " 'lóigicaî',\n",
       " 'lóigicaò',\n",
       " 'lóigicaó',\n",
       " 'lóigicaô',\n",
       " 'lóigicaõ',\n",
       " 'lóigicaù',\n",
       " 'lóigicaú',\n",
       " 'lóigicaû',\n",
       " 'lóigicaç',\n",
       " 'óigica',\n",
       " 'ligica',\n",
       " 'lógica',\n",
       " 'lóiica',\n",
       " 'lóigca',\n",
       " 'lóigia',\n",
       " 'lóigic',\n",
       " 'lóigica']"
      ]
     },
     "execution_count": 156,
     "metadata": {},
     "output_type": "execute_result"
    }
   ],
   "source": [
    "palavras_geradas = gerador_de_palavras(palavra_exemplo)\n",
    "palavras_geradas"
   ]
  },
  {
   "cell_type": "code",
   "execution_count": 157,
   "id": "021a1a32",
   "metadata": {},
   "outputs": [
    {
     "name": "stdout",
     "output_type": "stream",
     "text": [
      "Taxa de acerto: 41.71%\n"
     ]
    }
   ],
   "source": [
    "avaliador(lista_teste)"
   ]
  },
  {
   "cell_type": "markdown",
   "id": "c944751b",
   "metadata": {},
   "source": [
    "Uhul! Aumentou bastante.\n",
    "\n",
    "**Mas ainda há o que melhorar.**"
   ]
  },
  {
   "cell_type": "markdown",
   "id": "94199eb3",
   "metadata": {},
   "source": [
    "# Trocando as letras"
   ]
  },
  {
   "cell_type": "code",
   "execution_count": null,
   "id": "916aca63",
   "metadata": {},
   "outputs": [],
   "source": []
  }
 ],
 "metadata": {
  "kernelspec": {
   "display_name": "Python 3 (ipykernel)",
   "language": "python",
   "name": "python3"
  },
  "language_info": {
   "codemirror_mode": {
    "name": "ipython",
    "version": 3
   },
   "file_extension": ".py",
   "mimetype": "text/x-python",
   "name": "python",
   "nbconvert_exporter": "python",
   "pygments_lexer": "ipython3",
   "version": "3.9.13"
  }
 },
 "nbformat": 4,
 "nbformat_minor": 5
}
