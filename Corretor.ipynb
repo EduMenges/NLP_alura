{
 "cells": [
  {
   "cell_type": "markdown",
   "id": "b0bf4aaa",
   "metadata": {},
   "source": [
    "Trabalharei com tipos porque me dá felicidade e menos gatilho."
   ]
  },
  {
   "cell_type": "code",
   "execution_count": 21,
   "id": "0253eea2",
   "metadata": {},
   "outputs": [],
   "source": [
    "from typing import List, Set"
   ]
  },
  {
   "cell_type": "code",
   "execution_count": 4,
   "id": "855af6e1",
   "metadata": {
    "scrolled": false
   },
   "outputs": [
    {
     "name": "stdout",
     "output_type": "stream",
     "text": [
      "\n",
      "\n",
      "\n",
      "imagem \n",
      "\n",
      "Temos a seguinte classe que representa um usuário no nosso sistema:\n",
      "\n",
      "java\n",
      "\n",
      "Para salvar um novo usuário, várias validações são feitas, como por exemplo: Ver se o nome só contém letras, [**o CPF só números**] e ver se o usuário possui no mínimo 18 anos. Veja o método que faz essa validação:\n",
      "\n",
      "java \n",
      "\n",
      "Suponha agora que eu tenha outra classe, a classe `Produto`, que contém um atributo nome e eu quero fazer a mesma validação que fiz para o nome do usuário: Ver se só contém letras. E aí? Vou\n"
     ]
    }
   ],
   "source": [
    "artigos = \"\"\n",
    "\n",
    "with open(\"artigos.txt\", \"r\", encoding=\"utf8\") as f:\n",
    "    artigos = f.read()\n",
    "\n",
    "print(artigos[:300])"
   ]
  },
  {
   "cell_type": "markdown",
   "id": "4d42560c",
   "metadata": {},
   "source": [
    "É claro que não dá pra usar o len, ele retornaria a quantidade de caracteres. O split também não, pois é lento, e não diferencia as pontuações."
   ]
  },
  {
   "cell_type": "markdown",
   "id": "58d3c6d0",
   "metadata": {},
   "source": [
    "# Tokenização"
   ]
  },
  {
   "cell_type": "markdown",
   "id": "2bfb7604",
   "metadata": {},
   "source": [
    "Ao invés de inventar moda, por que não usar um pacote pronto que foi feito por pessoas muito mais inteligentes do que você?"
   ]
  },
  {
   "cell_type": "code",
   "execution_count": 8,
   "id": "b24469d6",
   "metadata": {},
   "outputs": [
    {
     "name": "stderr",
     "output_type": "stream",
     "text": [
      "[nltk_data] Downloading package punkt to\n",
      "[nltk_data]     C:\\Users\\eduar\\AppData\\Roaming\\nltk_data...\n",
      "[nltk_data]   Unzipping tokenizers\\punkt.zip.\n"
     ]
    },
    {
     "data": {
      "text/plain": [
       "True"
      ]
     },
     "execution_count": 8,
     "metadata": {},
     "output_type": "execute_result"
    }
   ],
   "source": [
    "import nltk\n",
    "nltk.download('punkt')"
   ]
  },
  {
   "cell_type": "code",
   "execution_count": 9,
   "id": "26824268",
   "metadata": {},
   "outputs": [],
   "source": [
    "palavras_separadas = nltk.tokenize.word_tokenize(artigos)"
   ]
  },
  {
   "cell_type": "code",
   "execution_count": 11,
   "id": "a9a8ae2c",
   "metadata": {
    "scrolled": true
   },
   "outputs": [
    {
     "name": "stdout",
     "output_type": "stream",
     "text": [
      "['imagem', 'Temos', 'a', 'seguinte', 'classe', 'que', 'representa', 'um', 'usuário', 'no', 'nosso', 'sistema', ':', 'java', 'Para', 'salvar', 'um', 'novo', 'usuário', ',']\n"
     ]
    }
   ],
   "source": [
    "print(palavras_separadas[:20])"
   ]
  },
  {
   "cell_type": "markdown",
   "id": "b770e8e5",
   "metadata": {},
   "source": [
    "Apesar de conseguirmos separar os tokens, precisamos também filtrar o que é palavra do que é pontuação."
   ]
  },
  {
   "cell_type": "markdown",
   "id": "6936eeec",
   "metadata": {},
   "source": [
    "## Filtrando as palavras"
   ]
  },
  {
   "cell_type": "code",
   "execution_count": 20,
   "id": "3c11709d",
   "metadata": {},
   "outputs": [],
   "source": [
    "def separa_palavras(tokens: List[str]) -> List[str]:\n",
    "    lista_palavras = []\n",
    "    \n",
    "    for token in tokens:\n",
    "        if token.isalpha():\n",
    "            lista_palavras.append(token)\n",
    "    \n",
    "    return lista_palavras"
   ]
  },
  {
   "cell_type": "code",
   "execution_count": 23,
   "id": "d4a5abae",
   "metadata": {
    "scrolled": true
   },
   "outputs": [
    {
     "name": "stdout",
     "output_type": "stream",
     "text": [
      "['Olá', 'tudo', 'bem']\n"
     ]
    }
   ],
   "source": [
    "texto_teste = \"Olá, tudo bem?\"\n",
    "teste_separado = separa_palavras(nltk.tokenize.word_tokenize(texto_teste))\n",
    "print(teste_separado)"
   ]
  },
  {
   "cell_type": "code",
   "execution_count": 16,
   "id": "7f781161",
   "metadata": {},
   "outputs": [
    {
     "name": "stdout",
     "output_type": "stream",
     "text": [
      "O total de palavras do corpus é 403031.\n"
     ]
    }
   ],
   "source": [
    "lista_palavras = separa_palavras(palavras_separadas)\n",
    "print(f\"O total de palavras do corpus é {len(lista_palavras)}.\")"
   ]
  },
  {
   "cell_type": "code",
   "execution_count": 17,
   "id": "acd16c1a",
   "metadata": {},
   "outputs": [
    {
     "name": "stdout",
     "output_type": "stream",
     "text": [
      "['imagem', 'Temos', 'a', 'seguinte', 'classe', 'que', 'representa', 'um', 'usuário', 'no', 'nosso', 'sistema', 'java', 'Para', 'salvar', 'um', 'novo', 'usuário', 'várias', 'validações']\n"
     ]
    }
   ],
   "source": [
    "print(lista_palavras[:20])"
   ]
  },
  {
   "cell_type": "markdown",
   "id": "bcb93ab9",
   "metadata": {},
   "source": [
    "## Normalizando as palavras"
   ]
  },
  {
   "cell_type": "code",
   "execution_count": 29,
   "id": "e6b6936e",
   "metadata": {},
   "outputs": [],
   "source": [
    "def normalizacao(lista_palavras: List[str]) -> List[str]:\n",
    "    return set(map(lambda p: p.lower(), lista_palavras))"
   ]
  },
  {
   "cell_type": "markdown",
   "id": "5bf33e39",
   "metadata": {},
   "source": [
    "Deus abençoe as funções de alta ordem."
   ]
  },
  {
   "cell_type": "code",
   "execution_count": 30,
   "id": "008236cc",
   "metadata": {},
   "outputs": [
    {
     "name": "stdout",
     "output_type": "stream",
     "text": [
      "{'olá', 'bem', 'tudo'}\n"
     ]
    }
   ],
   "source": [
    "print(normalizacao(teste_separado))"
   ]
  },
  {
   "cell_type": "code",
   "execution_count": 31,
   "id": "b46c2f13",
   "metadata": {},
   "outputs": [],
   "source": [
    "lista_normalizada = normalizacao(lista_palavras)"
   ]
  },
  {
   "cell_type": "code",
   "execution_count": 32,
   "id": "c5a3533f",
   "metadata": {},
   "outputs": [
    {
     "name": "stdout",
     "output_type": "stream",
     "text": [
      "Há 18464 palavras únicas no corpus.\n"
     ]
    }
   ],
   "source": [
    "print(f\"Há {len(lista_normalizada)} palavras únicas no corpus.\")"
   ]
  },
  {
   "cell_type": "markdown",
   "id": "88445e64",
   "metadata": {},
   "source": [
    "# Construindo o corretor"
   ]
  },
  {
   "cell_type": "code",
   "execution_count": 34,
   "id": "fa2588bf",
   "metadata": {},
   "outputs": [],
   "source": [
    "palavra_exemplo = \"lgica\""
   ]
  },
  {
   "cell_type": "code",
   "execution_count": 42,
   "id": "ea4fad46",
   "metadata": {},
   "outputs": [],
   "source": [
    "def fatiar_palavra(palavra: str):\n",
    "    fatias = []\n",
    "    \n",
    "    for i in range(len(palavra) + 1):\n",
    "        fatias.append((palavra[:i], palavra[i:]))\n",
    "        \n",
    "    return fatias"
   ]
  },
  {
   "cell_type": "code",
   "execution_count": 46,
   "id": "094da7a8",
   "metadata": {},
   "outputs": [
    {
     "name": "stdout",
     "output_type": "stream",
     "text": [
      "[('', 'lgica'), ('l', 'gica'), ('lg', 'ica'), ('lgi', 'ca'), ('lgic', 'a'), ('lgica', '')]\n"
     ]
    }
   ],
   "source": [
    "palavra_fatiada = fatiar_palavra(palavra_exemplo)\n",
    "print(palavra_fatiada)"
   ]
  },
  {
   "cell_type": "code",
   "execution_count": 64,
   "id": "7d018f74",
   "metadata": {},
   "outputs": [],
   "source": [
    "def insere_letras(fatias) -> List[List[str]]:\n",
    "    palavras_geradas = []\n",
    "    letras = \"abcdefghijklmnopqrstuvwxyzàáâãèéêìíîòóôõùúûç\"\n",
    "    \n",
    "    palavras_geradas.extend([f\"{E}{letra}{D}\"\n",
    "                             for E, D in fatias\n",
    "                             for letra in letras])\n",
    "    \n",
    "    return palavras_geradas"
   ]
  },
  {
   "cell_type": "code",
   "execution_count": 65,
   "id": "adebaee1",
   "metadata": {
    "scrolled": true
   },
   "outputs": [
    {
     "name": "stdout",
     "output_type": "stream",
     "text": [
      "['algica', 'blgica', 'clgica', 'dlgica', 'elgica', 'flgica', 'glgica', 'hlgica', 'ilgica', 'jlgica', 'klgica', 'llgica', 'mlgica', 'nlgica', 'olgica', 'plgica', 'qlgica', 'rlgica', 'slgica', 'tlgica', 'ulgica', 'vlgica', 'wlgica', 'xlgica', 'ylgica', 'zlgica', 'àlgica', 'álgica', 'âlgica', 'ãlgica', 'èlgica', 'élgica', 'êlgica', 'ìlgica', 'ílgica', 'îlgica', 'òlgica', 'ólgica', 'ôlgica', 'õlgica', 'ùlgica', 'úlgica', 'ûlgica', 'çlgica', 'lagica', 'lbgica', 'lcgica', 'ldgica', 'legica', 'lfgica', 'lggica', 'lhgica', 'ligica', 'ljgica', 'lkgica', 'llgica', 'lmgica', 'lngica', 'logica', 'lpgica', 'lqgica', 'lrgica', 'lsgica', 'ltgica', 'lugica', 'lvgica', 'lwgica', 'lxgica', 'lygica', 'lzgica', 'làgica', 'lágica', 'lâgica', 'lãgica', 'lègica', 'légica', 'lêgica', 'lìgica', 'lígica', 'lîgica', 'lògica', 'lógica', 'lôgica', 'lõgica', 'lùgica', 'lúgica', 'lûgica', 'lçgica', 'lgaica', 'lgbica', 'lgcica', 'lgdica', 'lgeica', 'lgfica', 'lggica', 'lghica', 'lgiica', 'lgjica', 'lgkica', 'lglica', 'lgmica', 'lgnica', 'lgoica', 'lgpica', 'lgqica', 'lgrica', 'lgsica', 'lgtica', 'lguica', 'lgvica', 'lgwica', 'lgxica', 'lgyica', 'lgzica', 'lgàica', 'lgáica', 'lgâica', 'lgãica', 'lgèica', 'lgéica', 'lgêica', 'lgìica', 'lgíica', 'lgîica', 'lgòica', 'lgóica', 'lgôica', 'lgõica', 'lgùica', 'lgúica', 'lgûica', 'lgçica', 'lgiaca', 'lgibca', 'lgicca', 'lgidca', 'lgieca', 'lgifca', 'lgigca', 'lgihca', 'lgiica', 'lgijca', 'lgikca', 'lgilca', 'lgimca', 'lginca', 'lgioca', 'lgipca', 'lgiqca', 'lgirca', 'lgisca', 'lgitca', 'lgiuca', 'lgivca', 'lgiwca', 'lgixca', 'lgiyca', 'lgizca', 'lgiàca', 'lgiáca', 'lgiâca', 'lgiãca', 'lgièca', 'lgiéca', 'lgiêca', 'lgiìca', 'lgiíca', 'lgiîca', 'lgiòca', 'lgióca', 'lgiôca', 'lgiõca', 'lgiùca', 'lgiúca', 'lgiûca', 'lgiçca', 'lgicaa', 'lgicba', 'lgicca', 'lgicda', 'lgicea', 'lgicfa', 'lgicga', 'lgicha', 'lgicia', 'lgicja', 'lgicka', 'lgicla', 'lgicma', 'lgicna', 'lgicoa', 'lgicpa', 'lgicqa', 'lgicra', 'lgicsa', 'lgicta', 'lgicua', 'lgicva', 'lgicwa', 'lgicxa', 'lgicya', 'lgicza', 'lgicàa', 'lgicáa', 'lgicâa', 'lgicãa', 'lgicèa', 'lgicéa', 'lgicêa', 'lgicìa', 'lgicía', 'lgicîa', 'lgicòa', 'lgicóa', 'lgicôa', 'lgicõa', 'lgicùa', 'lgicúa', 'lgicûa', 'lgicça', 'lgicaa', 'lgicab', 'lgicac', 'lgicad', 'lgicae', 'lgicaf', 'lgicag', 'lgicah', 'lgicai', 'lgicaj', 'lgicak', 'lgical', 'lgicam', 'lgican', 'lgicao', 'lgicap', 'lgicaq', 'lgicar', 'lgicas', 'lgicat', 'lgicau', 'lgicav', 'lgicaw', 'lgicax', 'lgicay', 'lgicaz', 'lgicaà', 'lgicaá', 'lgicaâ', 'lgicaã', 'lgicaè', 'lgicaé', 'lgicaê', 'lgicaì', 'lgicaí', 'lgicaî', 'lgicaò', 'lgicaó', 'lgicaô', 'lgicaõ', 'lgicaù', 'lgicaú', 'lgicaû', 'lgicaç']\n"
     ]
    }
   ],
   "source": [
    "print(insere_letras(palavra_fatiada))"
   ]
  },
  {
   "cell_type": "code",
   "execution_count": 66,
   "id": "705f5a2f",
   "metadata": {},
   "outputs": [],
   "source": [
    "def gerador_de_palavras(palavra: str):\n",
    "    fatias = fatiar_palavras(palavra)\n",
    "    palavras_geradas = insere_letras(fatias)\n",
    "    \n",
    "    return palavras_geradas\n"
   ]
  },
  {
   "cell_type": "code",
   "execution_count": null,
   "id": "642eb3b4",
   "metadata": {},
   "outputs": [],
   "source": [
    "def corretor(palavra):\n",
    "    palavras_geradas = gerador_palavras(palavra)\n",
    "    palavra_corre = max(palavras_geradas, palavra)    \n",
    "    \n",
    "    return palavra_correta"
   ]
  }
 ],
 "metadata": {
  "kernelspec": {
   "display_name": "Python 3 (ipykernel)",
   "language": "python",
   "name": "python3"
  },
  "language_info": {
   "codemirror_mode": {
    "name": "ipython",
    "version": 3
   },
   "file_extension": ".py",
   "mimetype": "text/x-python",
   "name": "python",
   "nbconvert_exporter": "python",
   "pygments_lexer": "ipython3",
   "version": "3.10.4"
  }
 },
 "nbformat": 4,
 "nbformat_minor": 5
}
