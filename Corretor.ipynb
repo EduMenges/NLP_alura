{
 "cells": [
  {
   "cell_type": "markdown",
   "id": "14d20bdd",
   "metadata": {},
   "source": [
    "Trabalharei com tipos porque me dá felicidade e menos gatilho."
   ]
  },
  {
   "cell_type": "code",
   "execution_count": 21,
   "id": "a0e9999c",
   "metadata": {},
   "outputs": [],
   "source": [
    "from typing import List, Set"
   ]
  },
  {
   "cell_type": "code",
   "execution_count": 4,
   "id": "855af6e1",
   "metadata": {
    "scrolled": true
   },
   "outputs": [
    {
     "name": "stdout",
     "output_type": "stream",
     "text": [
      "\n",
      "\n",
      "\n",
      "imagem \n",
      "\n",
      "Temos a seguinte classe que representa um usuário no nosso sistema:\n",
      "\n",
      "java\n",
      "\n",
      "Para salvar um novo usuário, várias validações são feitas, como por exemplo: Ver se o nome só contém letras, [**o CPF só números**] e ver se o usuário possui no mínimo 18 anos. Veja o método que faz essa validação:\n",
      "\n",
      "java \n",
      "\n",
      "Suponha agora que eu tenha outra classe, a classe `Produto`, que contém um atributo nome e eu quero fazer a mesma validação que fiz para o nome do usuário: Ver se só contém letras. E aí? Vou\n"
     ]
    }
   ],
   "source": [
    "artigos = \"\"\n",
    "\n",
    "with open(\"artigos.txt\", \"r\", encoding=\"utf8\") as f:\n",
    "    artigos = f.read()\n",
    "\n",
    "print(artigos[:500])"
   ]
  },
  {
   "cell_type": "markdown",
   "id": "4d42560c",
   "metadata": {},
   "source": [
    "É claro que não dá pra usar o len, ele retornaria a quantidade de caracteres. O split também não, pois é lento, e não diferencia as pontuações."
   ]
  },
  {
   "cell_type": "markdown",
   "id": "58d3c6d0",
   "metadata": {},
   "source": [
    "# Tokenização"
   ]
  },
  {
   "cell_type": "markdown",
   "id": "2bfb7604",
   "metadata": {},
   "source": [
    "Ao invés de inventar moda, por que não usar um pacote pronto que foi feito por pessoas muito mais inteligentes do que você?"
   ]
  },
  {
   "cell_type": "code",
   "execution_count": 8,
   "id": "b24469d6",
   "metadata": {},
   "outputs": [
    {
     "name": "stderr",
     "output_type": "stream",
     "text": [
      "[nltk_data] Downloading package punkt to\n",
      "[nltk_data]     C:\\Users\\eduar\\AppData\\Roaming\\nltk_data...\n",
      "[nltk_data]   Unzipping tokenizers\\punkt.zip.\n"
     ]
    },
    {
     "data": {
      "text/plain": [
       "True"
      ]
     },
     "execution_count": 8,
     "metadata": {},
     "output_type": "execute_result"
    }
   ],
   "source": [
    "import nltk\n",
    "nltk.download('punkt')"
   ]
  },
  {
   "cell_type": "code",
   "execution_count": 9,
   "id": "9c07f898",
   "metadata": {},
   "outputs": [],
   "source": [
    "palavras_separadas = nltk.tokenize.word_tokenize(artigos)"
   ]
  },
  {
   "cell_type": "code",
   "execution_count": 11,
   "id": "4401d1b7",
   "metadata": {},
   "outputs": [
    {
     "name": "stdout",
     "output_type": "stream",
     "text": [
      "['imagem', 'Temos', 'a', 'seguinte', 'classe', 'que', 'representa', 'um', 'usuário', 'no', 'nosso', 'sistema', ':', 'java', 'Para', 'salvar', 'um', 'novo', 'usuário', ',']\n"
     ]
    }
   ],
   "source": [
    "print(palavras_separadas[:20])"
   ]
  },
  {
   "cell_type": "markdown",
   "id": "19e15e6f",
   "metadata": {},
   "source": [
    "Apesar de conseguirmos separar os tokens, precisamos também filtrar o que é palavra do que é pontuação."
   ]
  },
  {
   "cell_type": "markdown",
   "id": "49265139",
   "metadata": {},
   "source": [
    "## Filtrando as palavras"
   ]
  },
  {
   "cell_type": "code",
   "execution_count": 20,
   "id": "84c9a0cc",
   "metadata": {},
   "outputs": [],
   "source": [
    "def separa_palavras(tokens: List[str]) -> List[str]:\n",
    "    lista_palavras = []\n",
    "    \n",
    "    for token in tokens:\n",
    "        if token.isalpha():\n",
    "            lista_palavras.append(token)\n",
    "    \n",
    "    return lista_palavras"
   ]
  },
  {
   "cell_type": "code",
   "execution_count": 23,
   "id": "f8445c22",
   "metadata": {},
   "outputs": [
    {
     "name": "stdout",
     "output_type": "stream",
     "text": [
      "['Olá', 'tudo', 'bem']\n"
     ]
    }
   ],
   "source": [
    "texto_teste = \"Olá, tudo bem?\"\n",
    "teste_separado = separa_palavras(nltk.tokenize.word_tokenize(texto_teste))\n",
    "print(teste_separado)"
   ]
  },
  {
   "cell_type": "code",
   "execution_count": 16,
   "id": "574c33ff",
   "metadata": {},
   "outputs": [
    {
     "name": "stdout",
     "output_type": "stream",
     "text": [
      "O total de palavras do corpus é 403031.\n"
     ]
    }
   ],
   "source": [
    "lista_palavras = separa_palavras(palavras_separadas)\n",
    "print(f\"O total de palavras do corpus é {len(lista_palavras)}.\")"
   ]
  },
  {
   "cell_type": "code",
   "execution_count": 17,
   "id": "8b42fdbb",
   "metadata": {},
   "outputs": [
    {
     "name": "stdout",
     "output_type": "stream",
     "text": [
      "['imagem', 'Temos', 'a', 'seguinte', 'classe', 'que', 'representa', 'um', 'usuário', 'no', 'nosso', 'sistema', 'java', 'Para', 'salvar', 'um', 'novo', 'usuário', 'várias', 'validações']\n"
     ]
    }
   ],
   "source": [
    "print(lista_palavras[:20])"
   ]
  },
  {
   "cell_type": "markdown",
   "id": "83986f6f",
   "metadata": {},
   "source": [
    "## Normalizando as palavras"
   ]
  },
  {
   "cell_type": "code",
   "execution_count": 29,
   "id": "698aa1b2",
   "metadata": {},
   "outputs": [],
   "source": [
    "def normalizacao(lista_palavras: List[str]) -> List[str]:\n",
    "    return set(map(lambda p: p.lower(), lista_palavras))"
   ]
  },
  {
   "cell_type": "code",
   "execution_count": 30,
   "id": "53136a16",
   "metadata": {},
   "outputs": [
    {
     "name": "stdout",
     "output_type": "stream",
     "text": [
      "{'olá', 'bem', 'tudo'}\n"
     ]
    }
   ],
   "source": [
    "print(normalizacao(teste_separado))"
   ]
  },
  {
   "cell_type": "code",
   "execution_count": 31,
   "id": "a7fff237",
   "metadata": {},
   "outputs": [],
   "source": [
    "lista_normalizada = normalizacao(lista_palavras)"
   ]
  },
  {
   "cell_type": "code",
   "execution_count": 32,
   "id": "6257b42c",
   "metadata": {},
   "outputs": [
    {
     "name": "stdout",
     "output_type": "stream",
     "text": [
      "Há 18464 palavras únicas no corpus.\n"
     ]
    }
   ],
   "source": [
    "print(f\"Há {len(lista_normalizada)} palavras únicas no corpus.\")"
   ]
  },
  {
   "cell_type": "code",
   "execution_count": null,
   "id": "2502e13a",
   "metadata": {},
   "outputs": [],
   "source": []
  }
 ],
 "metadata": {
  "kernelspec": {
   "display_name": "Python 3 (ipykernel)",
   "language": "python",
   "name": "python3"
  },
  "language_info": {
   "codemirror_mode": {
    "name": "ipython",
    "version": 3
   },
   "file_extension": ".py",
   "mimetype": "text/x-python",
   "name": "python",
   "nbconvert_exporter": "python",
   "pygments_lexer": "ipython3",
   "version": "3.10.4"
  }
 },
 "nbformat": 4,
 "nbformat_minor": 5
}
